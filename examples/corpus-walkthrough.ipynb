{
 "cells": [
  {
   "cell_type": "markdown",
   "metadata": {
    "id": "V1Koi_PbCqLE"
   },
   "source": [
    "# Riksdagen corpus v0.14.0\n",
    "\n",
    "2024-02-26\n",
    "\n",
    "This Colab notebook demonstrates how to quickly access data from the Riksdagen corpus."
   ]
  },
  {
   "cell_type": "markdown",
   "metadata": {
    "id": "ya7z46KzEjvm"
   },
   "source": [
    "Let's install them and set things up"
   ]
  },
  {
   "cell_type": "code",
   "execution_count": null,
   "metadata": {
    "colab": {
     "base_uri": "https://localhost:8080/"
    },
    "id": "KV071JLZDOMS",
    "outputId": "6bb6e34a-79b2-4867-afc0-4275a7421bd8"
   },
   "outputs": [],
   "source": [
    "%pip install pyriksdagen\n",
    "from lxml import etree\n",
    "import progressbar\n",
    "from pyparlaclarin.read import paragraph_iterator, speeches_with_name\n",
    "from pyriksdagen.utils import protocol_iterators, download_corpus\n",
    "\n",
    "# We need a parser for reading in XML data\n",
    "parser = etree.XMLParser(remove_blank_text=True)"
   ]
  },
  {
   "cell_type": "markdown",
   "metadata": {},
   "source": [
    "Then, let's download the corpus"
   ]
  },
  {
   "cell_type": "code",
   "execution_count": null,
   "metadata": {},
   "outputs": [],
   "source": [
    "download_corpus()"
   ]
  },
  {
   "cell_type": "markdown",
   "metadata": {
    "id": "Jk4bgi0QHVar"
   },
   "source": [
    "Now we can go over some protocols from, say, 1955-1956."
   ]
  },
  {
   "cell_type": "code",
   "execution_count": 3,
   "metadata": {
    "colab": {
     "base_uri": "https://localhost:8080/"
    },
    "id": "nepFg0ObHZy5",
    "outputId": "8e684e59-c8b2-4156-afcd-89f9411c2f55"
   },
   "outputs": [
    {
     "data": {
      "text/plain": [
       "['corpus/protocols/1955/prot-1955--ak--001.xml',\n",
       " 'corpus/protocols/1955/prot-1955--ak--002.xml',\n",
       " 'corpus/protocols/1955/prot-1955--ak--003.xml',\n",
       " 'corpus/protocols/1955/prot-1955--ak--004.xml',\n",
       " 'corpus/protocols/1955/prot-1955--ak--005.xml']"
      ]
     },
     "execution_count": 3,
     "metadata": {},
     "output_type": "execute_result"
    }
   ],
   "source": [
    "protocols = list(protocol_iterators(\"corpus/protocols/\", start=1955, end=1956))\n",
    "protocols[:5]"
   ]
  },
  {
   "cell_type": "markdown",
   "metadata": {
    "id": "3b771h3wJtpE"
   },
   "source": [
    "It is straightforward to print out all content, including speeches, dates, speaker introductions and topic titles."
   ]
  },
  {
   "cell_type": "code",
   "execution_count": 4,
   "metadata": {
    "colab": {
     "base_uri": "https://localhost:8080/"
    },
    "id": "TmnEXrg4J5Sn",
    "outputId": "85b0e408-b75c-4db8-bdb6-708f0bc170b6"
   },
   "outputs": [
    {
     "name": "stdout",
     "output_type": "stream",
     "text": [
      "corpus/protocols/1955/prot-1955--ak--013.xml\n"
     ]
    }
   ],
   "source": [
    "# Select a protocol cause it's a whole lot of text\n",
    "protocol_in_question = protocols[12]\n",
    "print(protocol_in_question)\n",
    "root = etree.parse(protocol_in_question, parser).getroot()"
   ]
  },
  {
   "cell_type": "code",
   "execution_count": 5,
   "metadata": {
    "colab": {
     "base_uri": "https://localhost:8080/"
    },
    "id": "BA58n2_nKjsM",
    "outputId": "2152b234-476a-4dbe-f901-3842edd28c40"
   },
   "outputs": [
    {
     "name": "stdout",
     "output_type": "stream",
     "text": [
      "\n",
      "\n",
      "          RIKSDAGENS Ar PROTOKOLL\n",
      "        \n",
      "\n",
      "          1955 ANDRA KAMMAREN Nr 13\n",
      "        \n",
      "\n",
      "          13—15 april\n",
      "        \n",
      "\n",
      "          Debatter m. m.\n",
      "        \n",
      "\n",
      "          Onsdagen den 13 april Sid.\n",
      "        \n",
      "\n",
      "          Familjerådgivning «... 5 Interpellation av herr Ericsson : i\n",
      "          Näs ang. de minskade perioderna\n",
      "        \n"
     ]
    }
   ],
   "source": [
    "for elem in list(paragraph_iterator(root, output=\"lxml\"))[:7]:\n",
    "  print(\" \".join(elem.itertext()))"
   ]
  },
  {
   "cell_type": "markdown",
   "metadata": {
    "id": "o-PyfOzFL8gZ"
   },
   "source": [
    "Moreover, the metadata catalogues are also available. They are stored as CSV files, and can be accessed with pandas in python, or the spreadsheet program of your choice."
   ]
  },
  {
   "cell_type": "code",
   "execution_count": 6,
   "metadata": {
    "colab": {
     "base_uri": "https://localhost:8080/",
     "height": 424
    },
    "id": "IahTqbPfMSJU",
    "outputId": "3fb36045-5292-48bc-f6e1-ab9a89594ca4"
   },
   "outputs": [
    {
     "data": {
      "text/html": [
       "<div>\n",
       "<style scoped>\n",
       "    .dataframe tbody tr th:only-of-type {\n",
       "        vertical-align: middle;\n",
       "    }\n",
       "\n",
       "    .dataframe tbody tr th {\n",
       "        vertical-align: top;\n",
       "    }\n",
       "\n",
       "    .dataframe thead th {\n",
       "        text-align: right;\n",
       "    }\n",
       "</style>\n",
       "<table border=\"1\" class=\"dataframe\">\n",
       "  <thead>\n",
       "    <tr style=\"text-align: right;\">\n",
       "      <th></th>\n",
       "      <th>swerik_id</th>\n",
       "      <th>start</th>\n",
       "      <th>end</th>\n",
       "      <th>district</th>\n",
       "      <th>role</th>\n",
       "      <th>name</th>\n",
       "      <th>born</th>\n",
       "      <th>dead</th>\n",
       "      <th>gender</th>\n",
       "      <th>riksdagen_id</th>\n",
       "    </tr>\n",
       "  </thead>\n",
       "  <tbody>\n",
       "    <tr>\n",
       "      <th>0</th>\n",
       "      <td>i-PFAPNmRqeUAaxDzNRTG1x1</td>\n",
       "      <td>1867</td>\n",
       "      <td>1867</td>\n",
       "      <td>Eskilstuna och Strängnäs valkrets</td>\n",
       "      <td>andrakammarledamot</td>\n",
       "      <td>Sven Palmgren</td>\n",
       "      <td>1821-08-30</td>\n",
       "      <td>1880-09-29</td>\n",
       "      <td>man</td>\n",
       "      <td>NaN</td>\n",
       "    </tr>\n",
       "    <tr>\n",
       "      <th>1</th>\n",
       "      <td>i-QSYHiJ6G54WwZYYDpVnD4u</td>\n",
       "      <td>1867</td>\n",
       "      <td>1867</td>\n",
       "      <td>Västra Götalands läns västra valkrets</td>\n",
       "      <td>förstakammarledamot</td>\n",
       "      <td>Gustaf Daniel Björck</td>\n",
       "      <td>1806-05-30</td>\n",
       "      <td>1888-01-03</td>\n",
       "      <td>man</td>\n",
       "      <td>NaN</td>\n",
       "    </tr>\n",
       "    <tr>\n",
       "      <th>2</th>\n",
       "      <td>i-Ddmtm1uG9esPH37c8XjUXZ</td>\n",
       "      <td>1867</td>\n",
       "      <td>1867</td>\n",
       "      <td>Torna härads valkrets</td>\n",
       "      <td>andrakammarledamot</td>\n",
       "      <td>Robert De la Gardie den äldre</td>\n",
       "      <td>1823-12-17</td>\n",
       "      <td>1916-05-19</td>\n",
       "      <td>man</td>\n",
       "      <td>NaN</td>\n",
       "    </tr>\n",
       "    <tr>\n",
       "      <th>3</th>\n",
       "      <td>i-65rmwEXkkhA1kxSrD4oMUw</td>\n",
       "      <td>1867</td>\n",
       "      <td>1867</td>\n",
       "      <td>Värmlands läns valkrets</td>\n",
       "      <td>förstakammarledamot</td>\n",
       "      <td>Gustaf Ekman</td>\n",
       "      <td>1804-05-26</td>\n",
       "      <td>1876-05-03</td>\n",
       "      <td>man</td>\n",
       "      <td>NaN</td>\n",
       "    </tr>\n",
       "    <tr>\n",
       "      <th>4</th>\n",
       "      <td>i-AvGpsGJvs5PXTcEG4DtbFt</td>\n",
       "      <td>1867</td>\n",
       "      <td>1867</td>\n",
       "      <td>Kristianstads läns valkrets</td>\n",
       "      <td>förstakammarledamot</td>\n",
       "      <td>Eric Gyllenstierna</td>\n",
       "      <td>1825-01-26</td>\n",
       "      <td>1870-08-09</td>\n",
       "      <td>man</td>\n",
       "      <td>NaN</td>\n",
       "    </tr>\n",
       "    <tr>\n",
       "      <th>...</th>\n",
       "      <td>...</td>\n",
       "      <td>...</td>\n",
       "      <td>...</td>\n",
       "      <td>...</td>\n",
       "      <td>...</td>\n",
       "      <td>...</td>\n",
       "      <td>...</td>\n",
       "      <td>...</td>\n",
       "      <td>...</td>\n",
       "      <td>...</td>\n",
       "    </tr>\n",
       "    <tr>\n",
       "      <th>13198</th>\n",
       "      <td>i-SRx5MYgiUBkgGLPueXgws5</td>\n",
       "      <td>2023-11-14</td>\n",
       "      <td>NaN</td>\n",
       "      <td>Skåne läns västra valkrets</td>\n",
       "      <td>ledamot</td>\n",
       "      <td>Ola Möller</td>\n",
       "      <td>1983-02-06</td>\n",
       "      <td>NaN</td>\n",
       "      <td>man</td>\n",
       "      <td>0271338654822</td>\n",
       "    </tr>\n",
       "    <tr>\n",
       "      <th>13199</th>\n",
       "      <td>i-AvpuCBNCdN7LHjCsU7ixe5</td>\n",
       "      <td>2023-11-27</td>\n",
       "      <td>NaN</td>\n",
       "      <td>Malmö kommuns valkrets</td>\n",
       "      <td>ledamot</td>\n",
       "      <td>Zinaida Kajevic</td>\n",
       "      <td>1979</td>\n",
       "      <td>NaN</td>\n",
       "      <td>woman</td>\n",
       "      <td>0990587970528</td>\n",
       "    </tr>\n",
       "    <tr>\n",
       "      <th>13200</th>\n",
       "      <td>i-59GzwSB23e1tdcfxS3Mstm</td>\n",
       "      <td>2024-01-01</td>\n",
       "      <td>NaN</td>\n",
       "      <td>Värmlands läns valkrets</td>\n",
       "      <td>ledamot</td>\n",
       "      <td>Mona Smedman</td>\n",
       "      <td>1975</td>\n",
       "      <td>NaN</td>\n",
       "      <td>woman</td>\n",
       "      <td>0287315215921</td>\n",
       "    </tr>\n",
       "    <tr>\n",
       "      <th>13201</th>\n",
       "      <td>i-x1CuoKmRHYgQr9i2kh3B5</td>\n",
       "      <td>NaN</td>\n",
       "      <td>NaN</td>\n",
       "      <td>NaN</td>\n",
       "      <td>ledamot</td>\n",
       "      <td>Bengt Nording</td>\n",
       "      <td>NaN</td>\n",
       "      <td>NaN</td>\n",
       "      <td>man</td>\n",
       "      <td>NaN</td>\n",
       "    </tr>\n",
       "    <tr>\n",
       "      <th>13202</th>\n",
       "      <td>i-TUyWWYGDFXW92GhiG3CLwF</td>\n",
       "      <td>NaN</td>\n",
       "      <td>NaN</td>\n",
       "      <td>NaN</td>\n",
       "      <td>ledamot</td>\n",
       "      <td>Sven Nilsson</td>\n",
       "      <td>NaN</td>\n",
       "      <td>NaN</td>\n",
       "      <td>man</td>\n",
       "      <td>NaN</td>\n",
       "    </tr>\n",
       "  </tbody>\n",
       "</table>\n",
       "<p>13203 rows × 10 columns</p>\n",
       "</div>"
      ],
      "text/plain": [
       "                      swerik_id       start   end  \\\n",
       "0      i-PFAPNmRqeUAaxDzNRTG1x1        1867  1867   \n",
       "1      i-QSYHiJ6G54WwZYYDpVnD4u        1867  1867   \n",
       "2      i-Ddmtm1uG9esPH37c8XjUXZ        1867  1867   \n",
       "3      i-65rmwEXkkhA1kxSrD4oMUw        1867  1867   \n",
       "4      i-AvGpsGJvs5PXTcEG4DtbFt        1867  1867   \n",
       "...                         ...         ...   ...   \n",
       "13198  i-SRx5MYgiUBkgGLPueXgws5  2023-11-14   NaN   \n",
       "13199  i-AvpuCBNCdN7LHjCsU7ixe5  2023-11-27   NaN   \n",
       "13200  i-59GzwSB23e1tdcfxS3Mstm  2024-01-01   NaN   \n",
       "13201   i-x1CuoKmRHYgQr9i2kh3B5         NaN   NaN   \n",
       "13202  i-TUyWWYGDFXW92GhiG3CLwF         NaN   NaN   \n",
       "\n",
       "                                    district                 role  \\\n",
       "0          Eskilstuna och Strängnäs valkrets   andrakammarledamot   \n",
       "1      Västra Götalands läns västra valkrets  förstakammarledamot   \n",
       "2                      Torna härads valkrets   andrakammarledamot   \n",
       "3                    Värmlands läns valkrets  förstakammarledamot   \n",
       "4                Kristianstads läns valkrets  förstakammarledamot   \n",
       "...                                      ...                  ...   \n",
       "13198             Skåne läns västra valkrets              ledamot   \n",
       "13199                 Malmö kommuns valkrets              ledamot   \n",
       "13200                Värmlands läns valkrets              ledamot   \n",
       "13201                                    NaN              ledamot   \n",
       "13202                                    NaN              ledamot   \n",
       "\n",
       "                                name        born        dead gender  \\\n",
       "0                      Sven Palmgren  1821-08-30  1880-09-29    man   \n",
       "1               Gustaf Daniel Björck  1806-05-30  1888-01-03    man   \n",
       "2      Robert De la Gardie den äldre  1823-12-17  1916-05-19    man   \n",
       "3                       Gustaf Ekman  1804-05-26  1876-05-03    man   \n",
       "4                 Eric Gyllenstierna  1825-01-26  1870-08-09    man   \n",
       "...                              ...         ...         ...    ...   \n",
       "13198                     Ola Möller  1983-02-06         NaN    man   \n",
       "13199                Zinaida Kajevic        1979         NaN  woman   \n",
       "13200                   Mona Smedman        1975         NaN  woman   \n",
       "13201                  Bengt Nording         NaN         NaN    man   \n",
       "13202                   Sven Nilsson         NaN         NaN    man   \n",
       "\n",
       "        riksdagen_id  \n",
       "0                NaN  \n",
       "1                NaN  \n",
       "2                NaN  \n",
       "3                NaN  \n",
       "4                NaN  \n",
       "...              ...  \n",
       "13198  0271338654822  \n",
       "13199  0990587970528  \n",
       "13200  0287315215921  \n",
       "13201            NaN  \n",
       "13202            NaN  \n",
       "\n",
       "[13203 rows x 10 columns]"
      ]
     },
     "execution_count": 6,
     "metadata": {},
     "output_type": "execute_result"
    }
   ],
   "source": [
    "import pandas as pd\n",
    "from pyriksdagen.db import filter_db\n",
    "from pyriksdagen.utils import parse_date\n",
    "\n",
    "mop = pd.read_csv(\"corpus/metadata/member_of_parliament.csv\")\n",
    "name = pd.read_csv(\"corpus/metadata/name.csv\")\n",
    "name = name[name[\"primary_name\"]][[\"swerik_id\", \"name\"]]\n",
    "person = pd.read_csv(\"corpus/metadata/person.csv\")\n",
    "\n",
    "# We merge mandate periods of the MOPs with the names of the MOPs\n",
    "mop = mop.merge(name, on=\"swerik_id\", how=\"left\")\n",
    "# Let's also add person-level metadata, such as birth year and gender\n",
    "mop = mop.merge(person, on=\"swerik_id\", how=\"left\")\n",
    "mop"
   ]
  },
  {
   "cell_type": "markdown",
   "metadata": {
    "id": "zOsD5iu9-_Id"
   },
   "source": [
    "Let's find a specific person based on their name, for example Elis Håstad"
   ]
  },
  {
   "cell_type": "code",
   "execution_count": 7,
   "metadata": {
    "colab": {
     "base_uri": "https://localhost:8080/",
     "height": 81
    },
    "id": "YhmZbWWr--Tj",
    "outputId": "f811f3e7-a546-4bcb-9b43-b7ebc6c3adc2"
   },
   "outputs": [
    {
     "data": {
      "text/html": [
       "<div>\n",
       "<style scoped>\n",
       "    .dataframe tbody tr th:only-of-type {\n",
       "        vertical-align: middle;\n",
       "    }\n",
       "\n",
       "    .dataframe tbody tr th {\n",
       "        vertical-align: top;\n",
       "    }\n",
       "\n",
       "    .dataframe thead th {\n",
       "        text-align: right;\n",
       "    }\n",
       "</style>\n",
       "<table border=\"1\" class=\"dataframe\">\n",
       "  <thead>\n",
       "    <tr style=\"text-align: right;\">\n",
       "      <th></th>\n",
       "      <th>swerik_id</th>\n",
       "      <th>start</th>\n",
       "      <th>end</th>\n",
       "      <th>district</th>\n",
       "      <th>role</th>\n",
       "      <th>name</th>\n",
       "      <th>born</th>\n",
       "      <th>dead</th>\n",
       "      <th>gender</th>\n",
       "      <th>riksdagen_id</th>\n",
       "    </tr>\n",
       "  </thead>\n",
       "  <tbody>\n",
       "    <tr>\n",
       "      <th>4463</th>\n",
       "      <td>i-S9dMiL9yRpDaYPfVGjK1Gp</td>\n",
       "      <td>1941-12-05</td>\n",
       "      <td>1959-05-07</td>\n",
       "      <td>Stockholms kommuns valkrets</td>\n",
       "      <td>andrakammarledamot</td>\n",
       "      <td>Elis Håstad</td>\n",
       "      <td>1900-01-18</td>\n",
       "      <td>1959-05-07</td>\n",
       "      <td>man</td>\n",
       "      <td>NaN</td>\n",
       "    </tr>\n",
       "  </tbody>\n",
       "</table>\n",
       "</div>"
      ],
      "text/plain": [
       "                     swerik_id       start         end  \\\n",
       "4463  i-S9dMiL9yRpDaYPfVGjK1Gp  1941-12-05  1959-05-07   \n",
       "\n",
       "                         district                role         name  \\\n",
       "4463  Stockholms kommuns valkrets  andrakammarledamot  Elis Håstad   \n",
       "\n",
       "            born        dead gender riksdagen_id  \n",
       "4463  1900-01-18  1959-05-07    man          NaN  "
      ]
     },
     "execution_count": 7,
     "metadata": {},
     "output_type": "execute_result"
    }
   ],
   "source": [
    "# Let's find mr. Håstad\n",
    "mop[mop.name.str.contains(\"Håstad\")]"
   ]
  },
  {
   "cell_type": "markdown",
   "metadata": {
    "id": "Gww8GttGATZd"
   },
   "source": [
    "His identifier is i-S9dMiL9yRpDaYPfVGjK1Gp. Using that, we can find all his speeches. Let's do that and print out the first one"
   ]
  },
  {
   "cell_type": "code",
   "execution_count": 8,
   "metadata": {
    "colab": {
     "base_uri": "https://localhost:8080/"
    },
    "id": "5fxuJYhC9fpc",
    "outputId": "2b0f090f-d25e-4e80-b1fd-acb61ae9210c"
   },
   "outputs": [
    {
     "name": "stderr",
     "output_type": "stream",
     "text": [
      "100% (130 of 130) |######################| Elapsed Time: 0:00:00 Time:  0:00:00\n"
     ]
    },
    {
     "name": "stdout",
     "output_type": "stream",
     "text": [
      "Herr talman! Då debatten är så långt framskriden, skall jag inte\n",
      "            gå in på hela detta stora ämne. Jag kan i allt väsentligt instämma\n",
      "            i de rent praktiska synpunkter, som herr Fast här har givit till\n",
      "            känna. Jag skall inte heller gå in på frågan om det stora intrång\n",
      "            på den kyrkliga självstyrelsen, som motionen evident syftar till.\n",
      "          \n",
      "\n",
      "            Vad jag skulle vilja begränsa mig till är frågan, huruvida herr\n",
      "            Lundberg och herr Edberg och övriga motionärer i denna kammare,\n",
      "            när de nu kräver att en stor del av beslutanderätten på det kyrkliga\n",
      "            området skall överflyttas till den borgerliga kommunen, företräder\n",
      "            en mera demokratisk åsikt än anhängarna av den nu gällande ordningen.\n",
      "            Det har väl allmänt betraktats som en stor vinning, att vi 1862\n",
      "            gjorde en åtskillnad mellan den borgerliga och den kyrkliga kommunen.\n",
      "            Denna vinning har ju bestått sedan man på bägge fronterna genomfört\n",
      "            en lång rad av demokratiska reformer. Jag tänker på införandet\n",
      "            av den allmänna kommunala rösträtten, införandet av fullmäktigeinstitutionen\n",
      "            etc. Man har sedan ytterligare befäst den självständiga ställning,\n",
      "            som\n",
      "          \n",
      "\n",
      "            kyrkan fått, genom religionsfrihetslagstiftningen. Nu menar herr\n",
      "            Edberg att det inte vore värre att de borgerliga kommunerna fick\n",
      "            besluta över kyrkliga utgifter än att vi här i riksdagen beslutar\n",
      "            i kyrkliga frågor oavsett om ledamöterna tillhör statskyrkan eller\n",
      "            inte. Men det är väl ändå en stor skillnad däremellan. Vad vi\n",
      "            här i riksdagen har att göra är att dra upp gränserna mellan å\n",
      "            ena sidan kyrkans uppgift och kyrkans makt i samhället och å andra\n",
      "            sidan det borgerliga sambhällslivet. Den gränsdragningen kan ju\n",
      "            intet annat organ göra än riksdagen. Men den borgerliga kommunens\n",
      "            bestämmanderätt över kyrkliga förhållanden skulle beröra verkligt\n",
      "            centrala frågor i kyrkans inre liv. Varje liten utgift, som kommer\n",
      "            på debetsedeln, berör ju en intern kyrklig angelägenhet. Den parallell\n",
      "            som herr Edberg här har dragit är därför inte slående.\n",
      "          \n",
      "\n",
      "            Sedan måste man väl också rent principiellt säga — det skulle\n",
      "            förvåna mig om herr Lundberg kunde motsäga mig på den punkten\n",
      "            — att demokrati inte alls är koncentration till ett visst organ.\n",
      "            Demokrati innebär väl för det första tolerans, den tolerans som\n",
      "            finns i religionsfrihetslagstiftningen, och för det andra decentralisation,\n",
      "            d.v.s. att man på det borgerliga liksom på det kyrkliga området\n",
      "            försöker fördela makten så vitt som möjligt och så djupt ner i\n",
      "            folket som möjligt. Jag tror också att det är ett allmänt demokratiskt\n",
      "            värde, att så många människor som möjligt är engagerade i samhällsuppgifterna\n",
      "            och att alltså inte en liten, begränsad kår, några kommunalfullmäktige\n",
      "            eller stadsfullmäktige, bestämmer över alla slags ting. Jag skulle\n",
      "            vilja erinra herr Lundberg om den oerhörda styrka som det var\n",
      "            för vårt land under andra världskriget och alla de prövningar\n",
      "            vi då mötte, att vi hade några hundratusen kommunalmän ute i landet\n",
      "            — kanske bara\n",
      "          \n",
      "\n",
      "            suppleanter i någon obetydlig nämnd eller styrelse — som alla\n",
      "            hade ett uppdrag och åtnjöt ett medborgarförtroende och därför\n",
      "            på ett helt annat sätt än eljest kände sig ansvariga för utvecklingen.\n",
      "            Ju mindre vi gör den kår som på detta sätt är engagerad i samhällsarbetet\n",
      "            — det må nu vara på det borgerliga eller kyrkliga området — desto\n",
      "            större förlust är detta enligt min mening för den demokratiska\n",
      "            staten.\n",
      "          \n",
      "\n",
      "            Sedan, herr talman, bara ett par ord om kyrkofullmäktigevalen.\n",
      "            Herr Lundberg och hans medmotionärer har tagit årets kyrkofullmäktigeval\n",
      "            och det ringa deltagandet i dessa till utgångspunkt för denna\n",
      "            i grund och botten oerhört omvälvande reform, i varje fall principiellt\n",
      "            omvälvande reform. Det kunde tänkas andra vägar att komma till\n",
      "            rätta med problemet, om man anser det principiellt riktigt, att\n",
      "            de, som är intresserade av kyrkliga frågor eller tillhör statskyrkan,\n",
      "            själva skall få besluta över kyrkliga angelägenheter. Det kan\n",
      "            således tänkas att man på något sätt reformerar kyrkofullmäktigevalen.\n",
      "            Ordföranden i konstitutionsutskottet har ju väckt en motion i\n",
      "            denna fråga. Jag är personligen ganska skeptiskt inställd till\n",
      "            om denna utväg är den riktiga. Principiellt måste jag dock säga,\n",
      "            att herr Hallén enligt min mening angripit problemet från den\n",
      "            riktiga sidan i dag, när han tagit upp kyrkofullmäktigevalen.\n",
      "          \n",
      "\n",
      "            Man kan t. ex. lägga kyrkofullmäktigevalen på en annan tid än\n",
      "            den nu brukliga, så att de inte sammanfaller med något annat val.\n",
      "            Framför allt kan man lägga valet på en sådan tid, då man kan påräkna\n",
      "            ett större allmänt intresse än man kan få tre veckor efter det\n",
      "            stora valet, då väljarna och pressen är uttröttade. Man kan kanske\n",
      "            vända sig till partiorganisationerna och till pressen och försöka\n",
      "            få dem mera intresserade för dessa val än fallet var i höstas.\n",
      "            Den som såg, hur litet tidningarna sysslade med kyrkofullmäktige-\n",
      "          \n",
      "\n",
      "            valen i oktober, måste räkna med att deltagandet vid valet skulle\n",
      "            bli så litet som det i realiteten blev. Jag beklagar själv att\n",
      "            detta intresse inte är större. Jag skulle tro att den angelägnaste\n",
      "            uppgiften för kammaren för närvarande är att finna en sådan ordning\n",
      "            för kyrkofullmäktigevalet, att man kan stimulera människorna till\n",
      "            ett ökat deltagande.\n",
      "          \n",
      "\n",
      "            Till sist har man, herr talman, sagt, att det inte är så demokratiskt\n",
      "            om t. ex. partierna kommer överens om en gemensam lista och kanske\n",
      "            med hänsyn därtill endast samlar 5 procent av de röstberättigade.\n",
      "            Men om samma företeelse sker inom den borgeliga kommunen — och\n",
      "            det skedde oerhört ofta i varje fall före storkommunindelningen\n",
      "            — är ju det lika litet demokratiskt. Då är det svårt att se var\n",
      "            vinsten skulle ligga, om det ena valet ej samlar större intresse\n",
      "            än det andra.\n",
      "          \n",
      "\n",
      "            Herr Lundberg! Det är väl ett allmänt problem att ta upp här\n",
      "            i kammaren och i varje fall ett ögonblick stanna inför, om vi\n",
      "            vid valen i allmänhet har det stora intresse från de röstberättigades\n",
      "            sida som man skulle önska. Vi kan t. ex. se på kandidatnomineringarna,\n",
      "            som är så oerhört viktiga för vårt demokratiska liv. Har vi ett\n",
      "            större allmänt deltagande i kandidatnomineringen till riksdagen\n",
      "            än vid kyrkofullmäktigevalen? I regel motsatsen. I många fall\n",
      "            kan man väl dock säga, att kandidatnomineringen till riksdagen\n",
      "            är viktigare än kyrkofullmäktigevalen. När vi har landstingsgruppernas\n",
      "            val till första kammaren är det kanske tre eller fyra personer\n",
      "            som har makt och möjlighet att avgöra förstakammarmandaten för\n",
      "            åtta år. Vid municipalfullmäktigevalen lägger vi märke till att\n",
      "            municip efter municip i regel har en gemensam lista och mycket\n",
      "            lågt valdeltagande. Vi skulle kunna peka på alla de val och omröstningar\n",
      "            som förekommer i de olika ekonomiska föreningarna, fackföreningartna\n",
      "            och liknande organisationer. Hur\n",
      "          \n",
      "\n",
      "            stort är vid många voteringar deltagandet i en tjänstemannaorganisation\n",
      "            eller ett fackförbund? Det är många gånger mycket lägre än vid\n",
      "            kyrkofullmäktigevalen, men inte säger vi därför att dessa val\n",
      "            är odemokratiska. Vi kan endast beklaga att intresset inte är\n",
      "            större.\n",
      "          \n",
      "\n",
      "            För mig står det i varje fall klart, att det förslag herr Lundberg\n",
      "            kommit med i och för sig inte skapar något större intresse för\n",
      "            kyrkan än den nuvarande ordningen. Snarare får man säga att motsatsen\n",
      "            blir förhållandet. Det skulle leda till ett ännu mindre intresse\n",
      "            för kyrkan. Det är inte heller säkert att förslaget skapar en\n",
      "            större sakkunskap vid avgörandet av kyrkans frågor. Under sådana\n",
      "            förhållanden kan jag inte se att denna motion i något avseende\n",
      "            skulle innebära någon förbättring, och jag yrkar därför, herr\n",
      "            talman, bifall till utskottets förslag.\n",
      "          \n",
      "\n",
      "            Herr talman! Herr Lundberg yttrade att koncentrationen till kyrkofullmäktige\n",
      "            skulle vara en fara. Jag ber herr Lundberg precisera vari denna\n",
      "            samhällsfara ligger; det måste väl vara en fara för samhället\n",
      "            som herr Lundberg menar. Det är någonting som för mig är fullkomligt\n",
      "            okänt, att man skulle kunna använda det hårda uttrycket fara,\n",
      "            samhällsfara, i detta sammanhang.\n",
      "          \n",
      "\n",
      "            Det tycktes som om herr Lundberg fortfarande vore anhängare av\n",
      "            en koncentration av makten. Jag vidhåller då för min del såsom\n",
      "            en personlig bekännelse, att jag anser att vi fortfarande bör\n",
      "            sträva efter att ge så många som möjligt uppdrag i detta samhälle,\n",
      "            intresse för samhället och ansvar för samhällsutvecklingen. Ur\n",
      "            den synpunkten var det ju beklagligt att storkommunindelningen,\n",
      "            som ur andra synpunkter var nödvändig, ledde till en minskning\n",
      "            av den krets som känner detta ansvar. Skulle vi nu också gå så\n",
      "            hårt fram mot kyrkofullmäktige som herr Lundberg önskar, är det\n",
      "            ju fara för att denna krets ytterligare minskar och att vi får\n",
      "            en alltmer koncentrerad demokrati.\n",
      "          \n",
      "\n",
      "            Herr talman! Jag tycker att vad som skett med kyrktuppen nere\n",
      "            i Skåne är en för liten händelse för den omvälvande reform som\n",
      "            herr Lundberg planerar. Om herr Lundberg emellertid skulle vilja\n",
      "            ha exempel på liknande kupper, eller vad vi skall kalla det, på\n",
      "            det kommunala området, kan jag stå till tjänst med att nämna bl.\n",
      "            a. ett fall från den tid då jag exercerade i Norrland: den berömda\n",
      "            Junselekuppen, som avsåg val av kommunalfullmäktige.\n",
      "          \n",
      "\n",
      "            Vi skall heller inte alldeles undervärdera det antal som deltar\n",
      "            i kyrkofullmäktigevalen, när det är en verklig tävlan mellan partierna.\n",
      "            Man har nu gång på gång åberopat förhållandena i Stockholm, i\n",
      "            varje fall skedde det i utskottet. Såvitt jag i hastigheten kan\n",
      "            räkna fram var det dock 75 000 människor som deltog i kyrkofullmäktigevalet\n",
      "            i Stockholm. Dessa 75 000 är en ganska stor armé, och de är inte\n",
      "            en armé som alldeles kan negligeras.\n"
     ]
    }
   ],
   "source": [
    "# Elis Håstad (i-S9dMiL9yRpDaYPfVGjK1Gp)\n",
    "hastad_speeches = []\n",
    "for protocol in progressbar.progressbar(protocols):\n",
    "  root = etree.parse(protocol, parser).getroot()\n",
    "  protocol_speech = []\n",
    "  for speech in speeches_with_name(root, name=\"i-S9dMiL9yRpDaYPfVGjK1Gp\"):\n",
    "    protocol_speech.append(speech)\n",
    "  protocol_speech = \"\\n\".join(protocol_speech).strip()\n",
    "  if protocol_speech != \"\":\n",
    "    hastad_speeches.append(protocol_speech)\n",
    "\n",
    "print(hastad_speeches[0])"
   ]
  }
 ],
 "metadata": {
  "colab": {
   "provenance": []
  },
  "kernelspec": {
   "display_name": "Python 3 (ipykernel)",
   "language": "python",
   "name": "python3"
  },
  "language_info": {
   "codemirror_mode": {
    "name": "ipython",
    "version": 3
   },
   "file_extension": ".py",
   "mimetype": "text/x-python",
   "name": "python",
   "nbconvert_exporter": "python",
   "pygments_lexer": "ipython3",
   "version": "3.8.18"
  }
 },
 "nbformat": 4,
 "nbformat_minor": 4
}
