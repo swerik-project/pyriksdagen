{
 "cells": [
  {
   "cell_type": "markdown",
   "metadata": {
    "id": "V1Koi_PbCqLE"
   },
   "source": [
    "# Riksdagen corpus v0.14.0\n",
    "\n",
    "2024-02-26\n",
    "\n",
    "This Colab notebook demonstrates how to quickly access data from the Riksdagen corpus."
   ]
  },
  {
   "cell_type": "markdown",
   "metadata": {
    "id": "ya7z46KzEjvm"
   },
   "source": [
    "Let's install them and set things up"
   ]
  },
  {
   "cell_type": "code",
   "execution_count": 1,
   "metadata": {
    "colab": {
     "base_uri": "https://localhost:8080/"
    },
    "id": "KV071JLZDOMS",
    "outputId": "6bb6e34a-79b2-4867-afc0-4275a7421bd8"
   },
   "outputs": [],
   "source": [
    "#%pip install pyriksdagen\n",
    "from lxml import etree\n",
    "import progressbar\n",
    "from pyparlaclarin.read import paragraph_iterator, speeches_with_name\n",
    "from pyriksdagen.utils import protocol_iterators, download_corpus\n",
    "import pyriksdagen\n",
    "# We need a parser for reading in XML data\n",
    "parser = etree.XMLParser(remove_blank_text=True)"
   ]
  },
  {
   "cell_type": "markdown",
   "metadata": {},
   "source": [
    "Then, let's download the corpus"
   ]
  },
  {
   "cell_type": "code",
   "execution_count": 2,
   "metadata": {},
   "outputs": [
    {
     "name": "stdout",
     "output_type": "stream",
     "text": [
      "ModuleSpec(name='pyriksdagen', loader=<_frozen_importlib_external.SourceFileLoader object at 0x1039f1420>, origin='/opt/homebrew/Caskroom/miniforge/base/envs/data/lib/python3.10/site-packages/pyriksdagen/__init__.py', submodule_search_locations=['/opt/homebrew/Caskroom/miniforge/base/envs/data/lib/python3.10/site-packages/pyriksdagen'])\n"
     ]
    },
    {
     "name": "stderr",
     "output_type": "stream",
     "text": [
      "politicians.zip: 100%|██████████| 2.20M/2.20M [00:00<00:00, 36.3MiB/s]"
     ]
    },
    {
     "name": "stdout",
     "output_type": "stream",
     "text": [
      "\u001b[33m15:12:05 [WARNING] \u001b[37m(pyriksdagen)\u001b[0m: data already exists at the path 'data'. It will be overwritten once the download is finished.\u001b[0m\n"
     ]
    },
    {
     "name": "stderr",
     "output_type": "stream",
     "text": [
      "\n",
      "records.zip: 100%|██████████| 1.60G/1.60G [00:42<00:00, 40.0MiB/s]\n"
     ]
    },
    {
     "ename": "OSError",
     "evalue": "[Errno 28] No space left on device",
     "output_type": "error",
     "traceback": [
      "\u001b[0;31m---------------------------------------------------------------------------\u001b[0m",
      "\u001b[0;31mOSError\u001b[0m                                   Traceback (most recent call last)",
      "Cell \u001b[0;32mIn[2], line 2\u001b[0m\n\u001b[1;32m      1\u001b[0m \u001b[38;5;28mprint\u001b[39m(pyriksdagen\u001b[38;5;241m.\u001b[39m__spec__)\n\u001b[0;32m----> 2\u001b[0m \u001b[43mdownload_corpus\u001b[49m\u001b[43m(\u001b[49m\u001b[43mpartitions\u001b[49m\u001b[38;5;241;43m=\u001b[39;49m\u001b[43m[\u001b[49m\u001b[38;5;124;43m\"\u001b[39;49m\u001b[38;5;124;43mpoliticians\u001b[39;49m\u001b[38;5;124;43m\"\u001b[39;49m\u001b[43m,\u001b[49m\u001b[43m \u001b[49m\u001b[38;5;124;43m\"\u001b[39;49m\u001b[38;5;124;43mrecords\u001b[39;49m\u001b[38;5;124;43m\"\u001b[39;49m\u001b[43m]\u001b[49m\u001b[43m)\u001b[49m\n",
      "File \u001b[0;32m/opt/homebrew/Caskroom/miniforge/base/envs/data/lib/python3.10/site-packages/pyriksdagen/utils.py:259\u001b[0m, in \u001b[0;36mdownload_corpus\u001b[0;34m(path, partitions)\u001b[0m\n\u001b[1;32m    257\u001b[0m \u001b[38;5;28;01mwith\u001b[39;00m zipfile\u001b[38;5;241m.\u001b[39mZipFile(zip_path_str, \u001b[38;5;124m\"\u001b[39m\u001b[38;5;124mr\u001b[39m\u001b[38;5;124m\"\u001b[39m) \u001b[38;5;28;01mas\u001b[39;00m zip_ref:\n\u001b[1;32m    258\u001b[0m     LOGGER\u001b[38;5;241m.\u001b[39mdebug(\u001b[38;5;124mf\u001b[39m\u001b[38;5;124m\"\u001b[39m\u001b[38;5;124mExtract to \u001b[39m\u001b[38;5;132;01m{\u001b[39;00mcorpus_path\u001b[38;5;132;01m}\u001b[39;00m\u001b[38;5;124m ...\u001b[39m\u001b[38;5;124m\"\u001b[39m)\n\u001b[0;32m--> 259\u001b[0m     \u001b[43mzip_ref\u001b[49m\u001b[38;5;241;43m.\u001b[39;49m\u001b[43mextractall\u001b[49m\u001b[43m(\u001b[49m\u001b[43m)\u001b[49m\n\u001b[1;32m    261\u001b[0m zip_path\u001b[38;5;241m.\u001b[39munlink()\n",
      "File \u001b[0;32m/opt/homebrew/Caskroom/miniforge/base/envs/data/lib/python3.10/zipfile.py:1647\u001b[0m, in \u001b[0;36mZipFile.extractall\u001b[0;34m(self, path, members, pwd)\u001b[0m\n\u001b[1;32m   1644\u001b[0m     path \u001b[38;5;241m=\u001b[39m os\u001b[38;5;241m.\u001b[39mfspath(path)\n\u001b[1;32m   1646\u001b[0m \u001b[38;5;28;01mfor\u001b[39;00m zipinfo \u001b[38;5;129;01min\u001b[39;00m members:\n\u001b[0;32m-> 1647\u001b[0m     \u001b[38;5;28;43mself\u001b[39;49m\u001b[38;5;241;43m.\u001b[39;49m\u001b[43m_extract_member\u001b[49m\u001b[43m(\u001b[49m\u001b[43mzipinfo\u001b[49m\u001b[43m,\u001b[49m\u001b[43m \u001b[49m\u001b[43mpath\u001b[49m\u001b[43m,\u001b[49m\u001b[43m \u001b[49m\u001b[43mpwd\u001b[49m\u001b[43m)\u001b[49m\n",
      "File \u001b[0;32m/opt/homebrew/Caskroom/miniforge/base/envs/data/lib/python3.10/zipfile.py:1702\u001b[0m, in \u001b[0;36mZipFile._extract_member\u001b[0;34m(self, member, targetpath, pwd)\u001b[0m\n\u001b[1;32m   1698\u001b[0m     \u001b[38;5;28;01mreturn\u001b[39;00m targetpath\n\u001b[1;32m   1700\u001b[0m \u001b[38;5;28;01mwith\u001b[39;00m \u001b[38;5;28mself\u001b[39m\u001b[38;5;241m.\u001b[39mopen(member, pwd\u001b[38;5;241m=\u001b[39mpwd) \u001b[38;5;28;01mas\u001b[39;00m source, \\\n\u001b[1;32m   1701\u001b[0m      \u001b[38;5;28mopen\u001b[39m(targetpath, \u001b[38;5;124m\"\u001b[39m\u001b[38;5;124mwb\u001b[39m\u001b[38;5;124m\"\u001b[39m) \u001b[38;5;28;01mas\u001b[39;00m target:\n\u001b[0;32m-> 1702\u001b[0m     \u001b[43mshutil\u001b[49m\u001b[38;5;241;43m.\u001b[39;49m\u001b[43mcopyfileobj\u001b[49m\u001b[43m(\u001b[49m\u001b[43msource\u001b[49m\u001b[43m,\u001b[49m\u001b[43m \u001b[49m\u001b[43mtarget\u001b[49m\u001b[43m)\u001b[49m\n\u001b[1;32m   1704\u001b[0m \u001b[38;5;28;01mreturn\u001b[39;00m targetpath\n",
      "File \u001b[0;32m/opt/homebrew/Caskroom/miniforge/base/envs/data/lib/python3.10/shutil.py:198\u001b[0m, in \u001b[0;36mcopyfileobj\u001b[0;34m(fsrc, fdst, length)\u001b[0m\n\u001b[1;32m    196\u001b[0m \u001b[38;5;28;01mif\u001b[39;00m \u001b[38;5;129;01mnot\u001b[39;00m buf:\n\u001b[1;32m    197\u001b[0m     \u001b[38;5;28;01mbreak\u001b[39;00m\n\u001b[0;32m--> 198\u001b[0m \u001b[43mfdst_write\u001b[49m\u001b[43m(\u001b[49m\u001b[43mbuf\u001b[49m\u001b[43m)\u001b[49m\n",
      "\u001b[0;31mOSError\u001b[0m: [Errno 28] No space left on device"
     ]
    }
   ],
   "source": [
    "print(pyriksdagen.__spec__)\n",
    "download_corpus(partitions=[\"politicians\", \"records\"])"
   ]
  },
  {
   "cell_type": "markdown",
   "metadata": {
    "id": "Jk4bgi0QHVar"
   },
   "source": [
    "Now we can go over some protocols from, say, 1955-1956."
   ]
  },
  {
   "cell_type": "code",
   "execution_count": 4,
   "metadata": {
    "colab": {
     "base_uri": "https://localhost:8080/"
    },
    "id": "nepFg0ObHZy5",
    "outputId": "8e684e59-c8b2-4156-afcd-89f9411c2f55"
   },
   "outputs": [
    {
     "data": {
      "text/plain": [
       "['data/1956/prot-1956--ak--001.xml',\n",
       " 'data/1956/prot-1956--ak--002.xml',\n",
       " 'data/1956/prot-1956--ak--003.xml',\n",
       " 'data/1956/prot-1956--ak--004.xml',\n",
       " 'data/1956/prot-1956--ak--005.xml']"
      ]
     },
     "execution_count": 4,
     "metadata": {},
     "output_type": "execute_result"
    }
   ],
   "source": [
    "protocols = list(protocol_iterators(corpus_root=\"data/\", start=1955, end=1956))\n",
    "protocols[:5]"
   ]
  },
  {
   "cell_type": "markdown",
   "metadata": {
    "id": "3b771h3wJtpE"
   },
   "source": [
    "It is straightforward to print out all content, including speeches, dates, speaker introductions and topic titles."
   ]
  },
  {
   "cell_type": "code",
   "execution_count": 5,
   "metadata": {
    "colab": {
     "base_uri": "https://localhost:8080/"
    },
    "id": "TmnEXrg4J5Sn",
    "outputId": "85b0e408-b75c-4db8-bdb6-708f0bc170b6"
   },
   "outputs": [
    {
     "name": "stdout",
     "output_type": "stream",
     "text": [
      "data/1956/prot-1956--ak--013.xml\n"
     ]
    }
   ],
   "source": [
    "# Select a protocol cause it's a whole lot of text\n",
    "protocol_in_question = protocols[12]\n",
    "print(protocol_in_question)\n",
    "root = etree.parse(protocol_in_question, parser).getroot()"
   ]
  },
  {
   "cell_type": "code",
   "execution_count": 6,
   "metadata": {
    "colab": {
     "base_uri": "https://localhost:8080/"
    },
    "id": "BA58n2_nKjsM",
    "outputId": "2152b234-476a-4dbe-f901-3842edd28c40"
   },
   "outputs": [
    {
     "name": "stdout",
     "output_type": "stream",
     "text": [
      "\n",
      "\n",
      "          RIKSDAGENS PROTOKOLL\n",
      "        \n",
      "\n",
      "          1956 ANDRA KAMMAREN Nr 13\n",
      "        \n",
      "\n",
      "          10—11 april\n",
      "        \n",
      "\n",
      "          Debatter m. m.\n",
      "        \n",
      "\n",
      "          Tisdagen den 10 april Sid. Svar på interpellationer av: herr\n",
      "          Norén ang. tillämpningen av bestämmelserna rörande egnahemsbebyggelsen\n",
      "          på landsbygden .........s.ss=>ssessseecrreersereerert 5 fröken\n",
      "          Elmén ang. samordningen mellan arbetslöshetsförsäkring och sjukförsäkring\n",
      "          ssssssseseseereereerereerr rer rr rr RR RR RR RAR 9 herr Nilsson\n",
      "          i Bästekille i anledning av att de nya vägarna mellan Hässleholm\n",
      "          och Malmö och mellan Gärsnäs och Tomelilla dragas fram över värdefull\n",
      "          åkerjord ..........s.sss-sesrseresesrtorsn orter ra 12 herr Östlund\n",
      "          ang. ökad kvot till Västerbottens län för investering i vägoch\n",
      "          brobyggnader...........ssesseresereerserserers rr ers et 15\n",
      "        \n",
      "\n",
      "          Interpellationer av: herr Lundberg ang. faran för förstöring\n",
      "          och förorening av grundvattnet bl. a. i grusåsarnA .......ssssssscecsererrtoretroer\n",
      "          error tet 19 herr Nihlfors ang. statligt stöd åt upptagning av\n",
      "          kulturhistorisk film 20 herr Braconier ang. åtgärder för att minska\n",
      "          vantrivseln bland folkskolans: lärare .sxs:sssms cs ses: SS I\n",
      "          see a se SWE FIN « SisIere + pretene » « 21\n",
      "        \n"
     ]
    }
   ],
   "source": [
    "for elem in list(paragraph_iterator(root, output=\"lxml\"))[:7]:\n",
    "  print(\" \".join(elem.itertext()))"
   ]
  },
  {
   "cell_type": "markdown",
   "metadata": {
    "id": "o-PyfOzFL8gZ"
   },
   "source": [
    "Moreover, the metadata catalogues are also available. They are stored as CSV files, and can be accessed with pandas in python, or the spreadsheet program of your choice."
   ]
  },
  {
   "cell_type": "code",
   "execution_count": 11,
   "metadata": {
    "colab": {
     "base_uri": "https://localhost:8080/",
     "height": 424
    },
    "id": "IahTqbPfMSJU",
    "outputId": "3fb36045-5292-48bc-f6e1-ab9a89594ca4"
   },
   "outputs": [
    {
     "name": "stdout",
     "output_type": "stream",
     "text": [
      "                      person_id       start   end  \\\n",
      "0      i-PFAPNmRqeUAaxDzNRTG1x1        1867  1867   \n",
      "1      i-QSYHiJ6G54WwZYYDpVnD4u        1867  1867   \n",
      "2      i-Ddmtm1uG9esPH37c8XjUXZ        1867  1867   \n",
      "3      i-65rmwEXkkhA1kxSrD4oMUw        1867  1867   \n",
      "4      i-AvGpsGJvs5PXTcEG4DtbFt        1867  1867   \n",
      "...                         ...         ...   ...   \n",
      "13206  i-DhFtpnk9dqFrTXA2tvjJnb  2024-01-30   NaN   \n",
      "13207  i-9rzEiT5qs2rumTNiqr6kVD  2024-01-31   NaN   \n",
      "13208  i-Swns2VJiq8mNPgw8cBRfJ9  2024-02-12   NaN   \n",
      "13209   i-x1CuoKmRHYgQr9i2kh3B5         NaN   NaN   \n",
      "13210  i-TUyWWYGDFXW92GhiG3CLwF         NaN   NaN   \n",
      "\n",
      "                                    district                 role  \n",
      "0          Eskilstuna och Strängnäs valkrets   andrakammarledamot  \n",
      "1      Västra Götalands läns västra valkrets  förstakammarledamot  \n",
      "2                      Torna härads valkrets   andrakammarledamot  \n",
      "3                    Värmlands läns valkrets  förstakammarledamot  \n",
      "4                Kristianstads läns valkrets  förstakammarledamot  \n",
      "...                                      ...                  ...  \n",
      "13206  Västra Götalands läns västra valkrets              ledamot  \n",
      "13207                 Malmö kommuns valkrets              ledamot  \n",
      "13208                 Malmö kommuns valkrets              ledamot  \n",
      "13209                                    NaN              ledamot  \n",
      "13210                                    NaN              ledamot  \n",
      "\n",
      "[13211 rows x 5 columns]\n",
      "                      person_id       start   end  \\\n",
      "0      i-PFAPNmRqeUAaxDzNRTG1x1        1867  1867   \n",
      "1      i-QSYHiJ6G54WwZYYDpVnD4u        1867  1867   \n",
      "2      i-Ddmtm1uG9esPH37c8XjUXZ        1867  1867   \n",
      "3      i-65rmwEXkkhA1kxSrD4oMUw        1867  1867   \n",
      "4      i-AvGpsGJvs5PXTcEG4DtbFt        1867  1867   \n",
      "...                         ...         ...   ...   \n",
      "13206  i-DhFtpnk9dqFrTXA2tvjJnb  2024-01-30   NaN   \n",
      "13207  i-9rzEiT5qs2rumTNiqr6kVD  2024-01-31   NaN   \n",
      "13208  i-Swns2VJiq8mNPgw8cBRfJ9  2024-02-12   NaN   \n",
      "13209   i-x1CuoKmRHYgQr9i2kh3B5         NaN   NaN   \n",
      "13210  i-TUyWWYGDFXW92GhiG3CLwF         NaN   NaN   \n",
      "\n",
      "                                    district                 role  \\\n",
      "0          Eskilstuna och Strängnäs valkrets   andrakammarledamot   \n",
      "1      Västra Götalands läns västra valkrets  förstakammarledamot   \n",
      "2                      Torna härads valkrets   andrakammarledamot   \n",
      "3                    Värmlands läns valkrets  förstakammarledamot   \n",
      "4                Kristianstads läns valkrets  förstakammarledamot   \n",
      "...                                      ...                  ...   \n",
      "13206  Västra Götalands läns västra valkrets              ledamot   \n",
      "13207                 Malmö kommuns valkrets              ledamot   \n",
      "13208                 Malmö kommuns valkrets              ledamot   \n",
      "13209                                    NaN              ledamot   \n",
      "13210                                    NaN              ledamot   \n",
      "\n",
      "                       party  \n",
      "0                        NaN  \n",
      "1                        NaN  \n",
      "2      ministeriella partiet  \n",
      "3                        NaN  \n",
      "4                        NaN  \n",
      "...                      ...  \n",
      "13206                    NaN  \n",
      "13207                    NaN  \n",
      "13208                    NaN  \n",
      "13209                    NaN  \n",
      "13210                    NaN  \n",
      "\n",
      "[13211 rows x 6 columns]\n",
      "                      person_id       start         end  \\\n",
      "2      i-Ddmtm1uG9esPH37c8XjUXZ        1867        1867   \n",
      "30      i-txhZTbUuKZkkaU5vYzZgH        1867        1868   \n",
      "74     i-6crgYxGFmn73aep9gWDLzZ        1867        1869   \n",
      "80     i-YFzzFKh2NjM54cFjad2qWQ        1867        1869   \n",
      "92     i-6P9WGen454XYD7xwVEV6JX        1867        1869   \n",
      "...                         ...         ...         ...   \n",
      "12848  i-DF6yJMSNGfT6HwisDSi4qz  2023-05-13  2024-01-26   \n",
      "12849  i-3kfmGYErmuJ81cgi8Cwy88  2022-09-26  2024-01-29   \n",
      "12850  i-AvpuCBNCdN7LHjCsU7ixe5  2023-11-27  2024-01-30   \n",
      "12851  i-Swns2VJiq8mNPgw8cBRfJ9  2022-09-26  2024-02-11   \n",
      "12852  i-DuMkbdojgoQN2GPx9cnpUs  2023-04-01  2024-09-24   \n",
      "\n",
      "                                    district                role  \\\n",
      "2                      Torna härads valkrets  andrakammarledamot   \n",
      "30                                       NaN  andrakammarledamot   \n",
      "74             Ovansiljans domsagas valkrets  andrakammarledamot   \n",
      "80                  Göteborgs stads valkrets  andrakammarledamot   \n",
      "92         Jämtlands norra domsagas valkrets  andrakammarledamot   \n",
      "...                                      ...                 ...   \n",
      "12848                 Blekinge läns valkrets             ledamot   \n",
      "12849  Västra Götalands läns västra valkrets             ledamot   \n",
      "12850                 Malmö kommuns valkrets             ledamot   \n",
      "12851                 Malmö kommuns valkrets             ledamot   \n",
      "12852            Västerbottens läns valkrets             ledamot   \n",
      "\n",
      "                       party  \n",
      "2      ministeriella partiet  \n",
      "30     ministeriella partiet  \n",
      "74     ministeriella partiet  \n",
      "80     ministeriella partiet  \n",
      "92     ministeriella partiet  \n",
      "...                      ...  \n",
      "12848    Sverigedemokraterna  \n",
      "12849     Socialdemokraterna  \n",
      "12850     Socialdemokraterna  \n",
      "12851     Socialdemokraterna  \n",
      "12852     Socialdemokraterna  \n",
      "\n",
      "[7979 rows x 6 columns]\n"
     ]
    },
    {
     "ename": "FileNotFoundError",
     "evalue": "[Errno 2] No such file or directory: 'data/riksdag_start-end.csv'",
     "output_type": "error",
     "traceback": [
      "\u001b[0;31m---------------------------------------------------------------------------\u001b[0m",
      "\u001b[0;31mFileNotFoundError\u001b[0m                         Traceback (most recent call last)",
      "Cell \u001b[0;32mIn[11], line 3\u001b[0m\n\u001b[1;32m      1\u001b[0m \u001b[38;5;28;01mfrom\u001b[39;00m \u001b[38;5;21;01mpyriksdagen\u001b[39;00m\u001b[38;5;21;01m.\u001b[39;00m\u001b[38;5;21;01mmetadata\u001b[39;00m \u001b[38;5;28;01mimport\u001b[39;00m load_Corpus_metadata\n\u001b[0;32m----> 3\u001b[0m df \u001b[38;5;241m=\u001b[39m \u001b[43mload_Corpus_metadata\u001b[49m\u001b[43m(\u001b[49m\u001b[38;5;124;43m\"\u001b[39;49m\u001b[38;5;124;43mdata\u001b[39;49m\u001b[38;5;124;43m\"\u001b[39;49m\u001b[43m)\u001b[49m\n",
      "File \u001b[0;32m/opt/homebrew/Caskroom/miniforge/base/envs/data/lib/python3.10/site-packages/pyriksdagen/metadata.py:323\u001b[0m, in \u001b[0;36mload_Corpus_metadata\u001b[0;34m(metadata_folder)\u001b[0m\n\u001b[1;32m    320\u001b[0m corpus \u001b[38;5;241m=\u001b[39m corpus\u001b[38;5;241m.\u001b[39madd_location_specifiers(metadata_folder\u001b[38;5;241m=\u001b[39mmetadata_folder)\n\u001b[1;32m    321\u001b[0m corpus \u001b[38;5;241m=\u001b[39m corpus\u001b[38;5;241m.\u001b[39madd_names(metadata_folder\u001b[38;5;241m=\u001b[39mmetadata_folder)\n\u001b[0;32m--> 323\u001b[0m corpus \u001b[38;5;241m=\u001b[39m \u001b[43mcorpus\u001b[49m\u001b[38;5;241;43m.\u001b[39;49m\u001b[43mimpute_dates\u001b[49m\u001b[43m(\u001b[49m\u001b[43mmetadata_folder\u001b[49m\u001b[38;5;241;43m=\u001b[39;49m\u001b[43mmetadata_folder\u001b[49m\u001b[43m)\u001b[49m\n\u001b[1;32m    324\u001b[0m corpus \u001b[38;5;241m=\u001b[39m corpus\u001b[38;5;241m.\u001b[39mimpute_parties(metadata_folder\u001b[38;5;241m=\u001b[39mmetadata_folder)\n\u001b[1;32m    325\u001b[0m corpus \u001b[38;5;241m=\u001b[39m corpus\u001b[38;5;241m.\u001b[39mabbreviate_parties(metadata_folder\u001b[38;5;241m=\u001b[39mmetadata_folder)\n",
      "File \u001b[0;32m/opt/homebrew/Caskroom/miniforge/base/envs/data/lib/python3.10/site-packages/pyriksdagen/metadata.py:286\u001b[0m, in \u001b[0;36mCorpus.impute_dates\u001b[0;34m(self, metadata_folder)\u001b[0m\n\u001b[1;32m    285\u001b[0m \u001b[38;5;28;01mdef\u001b[39;00m \u001b[38;5;21mimpute_dates\u001b[39m(\u001b[38;5;28mself\u001b[39m, metadata_folder\u001b[38;5;241m=\u001b[39m\u001b[38;5;124m\"\u001b[39m\u001b[38;5;124mcorpus/metadata\u001b[39m\u001b[38;5;124m\"\u001b[39m):\n\u001b[0;32m--> 286\u001b[0m \t\u001b[38;5;28;01mreturn\u001b[39;00m \u001b[43mimpute_date\u001b[49m\u001b[43m(\u001b[49m\u001b[38;5;28;43mself\u001b[39;49m\u001b[43m,\u001b[49m\u001b[43m \u001b[49m\u001b[43mmetadata_folder\u001b[49m\u001b[43m)\u001b[49m\n",
      "File \u001b[0;32m/opt/homebrew/Caskroom/miniforge/base/envs/data/lib/python3.10/site-packages/pyriksdagen/metadata.py:135\u001b[0m, in \u001b[0;36mimpute_date\u001b[0;34m(db, metadata_folder)\u001b[0m\n\u001b[1;32m    132\u001b[0m sources \u001b[38;5;241m=\u001b[39m \u001b[38;5;28mset\u001b[39m(db[\u001b[38;5;124m'\u001b[39m\u001b[38;5;124msource\u001b[39m\u001b[38;5;124m'\u001b[39m])\n\u001b[1;32m    133\u001b[0m \u001b[38;5;28;01mif\u001b[39;00m \u001b[38;5;124m'\u001b[39m\u001b[38;5;124mmember_of_parliament\u001b[39m\u001b[38;5;124m'\u001b[39m \u001b[38;5;129;01min\u001b[39;00m sources:\n\u001b[1;32m    134\u001b[0m \t\u001b[38;5;66;03m#db = impute_member_date(db, gov_db)\u001b[39;00m\n\u001b[0;32m--> 135\u001b[0m \tdb \u001b[38;5;241m=\u001b[39m \u001b[43mimpute_member_dates\u001b[49m\u001b[43m(\u001b[49m\u001b[43mdb\u001b[49m\u001b[43m,\u001b[49m\u001b[43m \u001b[49m\u001b[43mmetadata_folder\u001b[49m\u001b[43m)\u001b[49m\n\u001b[1;32m    137\u001b[0m db[\u001b[38;5;124m'\u001b[39m\u001b[38;5;124mstart\u001b[39m\u001b[38;5;124m'\u001b[39m] \u001b[38;5;241m=\u001b[39m db[\u001b[38;5;124m'\u001b[39m\u001b[38;5;124mstart\u001b[39m\u001b[38;5;124m'\u001b[39m]\u001b[38;5;241m.\u001b[39mapply(increase_date_precision, start\u001b[38;5;241m=\u001b[39m\u001b[38;5;28;01mTrue\u001b[39;00m)\n\u001b[1;32m    138\u001b[0m db[\u001b[38;5;124m'\u001b[39m\u001b[38;5;124mend\u001b[39m\u001b[38;5;124m'\u001b[39m] \u001b[38;5;241m=\u001b[39m db[\u001b[38;5;124m'\u001b[39m\u001b[38;5;124mend\u001b[39m\u001b[38;5;124m'\u001b[39m]\u001b[38;5;241m.\u001b[39mapply(increase_date_precision, start\u001b[38;5;241m=\u001b[39m\u001b[38;5;28;01mFalse\u001b[39;00m)\n",
      "File \u001b[0;32m/opt/homebrew/Caskroom/miniforge/base/envs/data/lib/python3.10/site-packages/pyriksdagen/metadata.py:84\u001b[0m, in \u001b[0;36mimpute_member_dates\u001b[0;34m(db, metadata_folder)\u001b[0m\n\u001b[1;32m     81\u001b[0m \t\t\t\u001b[38;5;28mprint\u001b[39m(\u001b[38;5;124mf\u001b[39m\u001b[38;5;124m\"\u001b[39m\u001b[38;5;124mProblem with end date: \u001b[39m\u001b[38;5;132;01m{\u001b[39;00mdate\u001b[38;5;132;01m}\u001b[39;00m\u001b[38;5;124m not in riksmote\u001b[39m\u001b[38;5;124m\"\u001b[39m)\n\u001b[1;32m     82\u001b[0m \t\t\t\u001b[38;5;28;01mreturn\u001b[39;00m date \u001b[38;5;241m+\u001b[39m \u001b[38;5;124m'\u001b[39m\u001b[38;5;124m-12-31\u001b[39m\u001b[38;5;124m'\u001b[39m\n\u001b[0;32m---> 84\u001b[0m riksmote \u001b[38;5;241m=\u001b[39m \u001b[43mpd\u001b[49m\u001b[38;5;241;43m.\u001b[39;49m\u001b[43mread_csv\u001b[49m\u001b[43m(\u001b[49m\u001b[38;5;124;43mf\u001b[39;49m\u001b[38;5;124;43m\"\u001b[39;49m\u001b[38;5;132;43;01m{\u001b[39;49;00m\u001b[43mmetadata_folder\u001b[49m\u001b[38;5;132;43;01m}\u001b[39;49;00m\u001b[38;5;124;43m/riksdag_start-end.csv\u001b[39;49m\u001b[38;5;124;43m\"\u001b[39;49m\u001b[43m)\u001b[49m\n\u001b[1;32m     85\u001b[0m riksmote[[\u001b[38;5;124m'\u001b[39m\u001b[38;5;124mstart\u001b[39m\u001b[38;5;124m'\u001b[39m, \u001b[38;5;124m'\u001b[39m\u001b[38;5;124mend\u001b[39m\u001b[38;5;124m'\u001b[39m]] \u001b[38;5;241m=\u001b[39m riksmote[[\u001b[38;5;124m'\u001b[39m\u001b[38;5;124mstart\u001b[39m\u001b[38;5;124m'\u001b[39m, \u001b[38;5;124m'\u001b[39m\u001b[38;5;124mend\u001b[39m\u001b[38;5;124m'\u001b[39m]]\u001b[38;5;241m.\u001b[39mastype(\u001b[38;5;28mstr\u001b[39m)\n\u001b[1;32m     87\u001b[0m idx \u001b[38;5;241m=\u001b[39m (db[\u001b[38;5;124m'\u001b[39m\u001b[38;5;124msource\u001b[39m\u001b[38;5;124m'\u001b[39m] \u001b[38;5;241m==\u001b[39m \u001b[38;5;124m'\u001b[39m\u001b[38;5;124mmember_of_parliament\u001b[39m\u001b[38;5;124m'\u001b[39m) \u001b[38;5;241m&\u001b[39m\\\n\u001b[1;32m     88\u001b[0m \t\t(pd\u001b[38;5;241m.\u001b[39mnotnull(db[\u001b[38;5;124m'\u001b[39m\u001b[38;5;124mstart\u001b[39m\u001b[38;5;124m'\u001b[39m])) \u001b[38;5;241m&\u001b[39m (db[\u001b[38;5;124m'\u001b[39m\u001b[38;5;124mstart\u001b[39m\u001b[38;5;124m'\u001b[39m] \u001b[38;5;241m!=\u001b[39m \u001b[38;5;124m'\u001b[39m\u001b[38;5;124mnan\u001b[39m\u001b[38;5;124m'\u001b[39m)\n",
      "File \u001b[0;32m/opt/homebrew/Caskroom/miniforge/base/envs/data/lib/python3.10/site-packages/pandas/io/parsers/readers.py:912\u001b[0m, in \u001b[0;36mread_csv\u001b[0;34m(filepath_or_buffer, sep, delimiter, header, names, index_col, usecols, dtype, engine, converters, true_values, false_values, skipinitialspace, skiprows, skipfooter, nrows, na_values, keep_default_na, na_filter, verbose, skip_blank_lines, parse_dates, infer_datetime_format, keep_date_col, date_parser, date_format, dayfirst, cache_dates, iterator, chunksize, compression, thousands, decimal, lineterminator, quotechar, quoting, doublequote, escapechar, comment, encoding, encoding_errors, dialect, on_bad_lines, delim_whitespace, low_memory, memory_map, float_precision, storage_options, dtype_backend)\u001b[0m\n\u001b[1;32m    899\u001b[0m kwds_defaults \u001b[38;5;241m=\u001b[39m _refine_defaults_read(\n\u001b[1;32m    900\u001b[0m     dialect,\n\u001b[1;32m    901\u001b[0m     delimiter,\n\u001b[0;32m   (...)\u001b[0m\n\u001b[1;32m    908\u001b[0m     dtype_backend\u001b[38;5;241m=\u001b[39mdtype_backend,\n\u001b[1;32m    909\u001b[0m )\n\u001b[1;32m    910\u001b[0m kwds\u001b[38;5;241m.\u001b[39mupdate(kwds_defaults)\n\u001b[0;32m--> 912\u001b[0m \u001b[38;5;28;01mreturn\u001b[39;00m \u001b[43m_read\u001b[49m\u001b[43m(\u001b[49m\u001b[43mfilepath_or_buffer\u001b[49m\u001b[43m,\u001b[49m\u001b[43m \u001b[49m\u001b[43mkwds\u001b[49m\u001b[43m)\u001b[49m\n",
      "File \u001b[0;32m/opt/homebrew/Caskroom/miniforge/base/envs/data/lib/python3.10/site-packages/pandas/io/parsers/readers.py:577\u001b[0m, in \u001b[0;36m_read\u001b[0;34m(filepath_or_buffer, kwds)\u001b[0m\n\u001b[1;32m    574\u001b[0m _validate_names(kwds\u001b[38;5;241m.\u001b[39mget(\u001b[38;5;124m\"\u001b[39m\u001b[38;5;124mnames\u001b[39m\u001b[38;5;124m\"\u001b[39m, \u001b[38;5;28;01mNone\u001b[39;00m))\n\u001b[1;32m    576\u001b[0m \u001b[38;5;66;03m# Create the parser.\u001b[39;00m\n\u001b[0;32m--> 577\u001b[0m parser \u001b[38;5;241m=\u001b[39m \u001b[43mTextFileReader\u001b[49m\u001b[43m(\u001b[49m\u001b[43mfilepath_or_buffer\u001b[49m\u001b[43m,\u001b[49m\u001b[43m \u001b[49m\u001b[38;5;241;43m*\u001b[39;49m\u001b[38;5;241;43m*\u001b[39;49m\u001b[43mkwds\u001b[49m\u001b[43m)\u001b[49m\n\u001b[1;32m    579\u001b[0m \u001b[38;5;28;01mif\u001b[39;00m chunksize \u001b[38;5;129;01mor\u001b[39;00m iterator:\n\u001b[1;32m    580\u001b[0m     \u001b[38;5;28;01mreturn\u001b[39;00m parser\n",
      "File \u001b[0;32m/opt/homebrew/Caskroom/miniforge/base/envs/data/lib/python3.10/site-packages/pandas/io/parsers/readers.py:1407\u001b[0m, in \u001b[0;36mTextFileReader.__init__\u001b[0;34m(self, f, engine, **kwds)\u001b[0m\n\u001b[1;32m   1404\u001b[0m     \u001b[38;5;28mself\u001b[39m\u001b[38;5;241m.\u001b[39moptions[\u001b[38;5;124m\"\u001b[39m\u001b[38;5;124mhas_index_names\u001b[39m\u001b[38;5;124m\"\u001b[39m] \u001b[38;5;241m=\u001b[39m kwds[\u001b[38;5;124m\"\u001b[39m\u001b[38;5;124mhas_index_names\u001b[39m\u001b[38;5;124m\"\u001b[39m]\n\u001b[1;32m   1406\u001b[0m \u001b[38;5;28mself\u001b[39m\u001b[38;5;241m.\u001b[39mhandles: IOHandles \u001b[38;5;241m|\u001b[39m \u001b[38;5;28;01mNone\u001b[39;00m \u001b[38;5;241m=\u001b[39m \u001b[38;5;28;01mNone\u001b[39;00m\n\u001b[0;32m-> 1407\u001b[0m \u001b[38;5;28mself\u001b[39m\u001b[38;5;241m.\u001b[39m_engine \u001b[38;5;241m=\u001b[39m \u001b[38;5;28;43mself\u001b[39;49m\u001b[38;5;241;43m.\u001b[39;49m\u001b[43m_make_engine\u001b[49m\u001b[43m(\u001b[49m\u001b[43mf\u001b[49m\u001b[43m,\u001b[49m\u001b[43m \u001b[49m\u001b[38;5;28;43mself\u001b[39;49m\u001b[38;5;241;43m.\u001b[39;49m\u001b[43mengine\u001b[49m\u001b[43m)\u001b[49m\n",
      "File \u001b[0;32m/opt/homebrew/Caskroom/miniforge/base/envs/data/lib/python3.10/site-packages/pandas/io/parsers/readers.py:1661\u001b[0m, in \u001b[0;36mTextFileReader._make_engine\u001b[0;34m(self, f, engine)\u001b[0m\n\u001b[1;32m   1659\u001b[0m     \u001b[38;5;28;01mif\u001b[39;00m \u001b[38;5;124m\"\u001b[39m\u001b[38;5;124mb\u001b[39m\u001b[38;5;124m\"\u001b[39m \u001b[38;5;129;01mnot\u001b[39;00m \u001b[38;5;129;01min\u001b[39;00m mode:\n\u001b[1;32m   1660\u001b[0m         mode \u001b[38;5;241m+\u001b[39m\u001b[38;5;241m=\u001b[39m \u001b[38;5;124m\"\u001b[39m\u001b[38;5;124mb\u001b[39m\u001b[38;5;124m\"\u001b[39m\n\u001b[0;32m-> 1661\u001b[0m \u001b[38;5;28mself\u001b[39m\u001b[38;5;241m.\u001b[39mhandles \u001b[38;5;241m=\u001b[39m \u001b[43mget_handle\u001b[49m\u001b[43m(\u001b[49m\n\u001b[1;32m   1662\u001b[0m \u001b[43m    \u001b[49m\u001b[43mf\u001b[49m\u001b[43m,\u001b[49m\n\u001b[1;32m   1663\u001b[0m \u001b[43m    \u001b[49m\u001b[43mmode\u001b[49m\u001b[43m,\u001b[49m\n\u001b[1;32m   1664\u001b[0m \u001b[43m    \u001b[49m\u001b[43mencoding\u001b[49m\u001b[38;5;241;43m=\u001b[39;49m\u001b[38;5;28;43mself\u001b[39;49m\u001b[38;5;241;43m.\u001b[39;49m\u001b[43moptions\u001b[49m\u001b[38;5;241;43m.\u001b[39;49m\u001b[43mget\u001b[49m\u001b[43m(\u001b[49m\u001b[38;5;124;43m\"\u001b[39;49m\u001b[38;5;124;43mencoding\u001b[39;49m\u001b[38;5;124;43m\"\u001b[39;49m\u001b[43m,\u001b[49m\u001b[43m \u001b[49m\u001b[38;5;28;43;01mNone\u001b[39;49;00m\u001b[43m)\u001b[49m\u001b[43m,\u001b[49m\n\u001b[1;32m   1665\u001b[0m \u001b[43m    \u001b[49m\u001b[43mcompression\u001b[49m\u001b[38;5;241;43m=\u001b[39;49m\u001b[38;5;28;43mself\u001b[39;49m\u001b[38;5;241;43m.\u001b[39;49m\u001b[43moptions\u001b[49m\u001b[38;5;241;43m.\u001b[39;49m\u001b[43mget\u001b[49m\u001b[43m(\u001b[49m\u001b[38;5;124;43m\"\u001b[39;49m\u001b[38;5;124;43mcompression\u001b[39;49m\u001b[38;5;124;43m\"\u001b[39;49m\u001b[43m,\u001b[49m\u001b[43m \u001b[49m\u001b[38;5;28;43;01mNone\u001b[39;49;00m\u001b[43m)\u001b[49m\u001b[43m,\u001b[49m\n\u001b[1;32m   1666\u001b[0m \u001b[43m    \u001b[49m\u001b[43mmemory_map\u001b[49m\u001b[38;5;241;43m=\u001b[39;49m\u001b[38;5;28;43mself\u001b[39;49m\u001b[38;5;241;43m.\u001b[39;49m\u001b[43moptions\u001b[49m\u001b[38;5;241;43m.\u001b[39;49m\u001b[43mget\u001b[49m\u001b[43m(\u001b[49m\u001b[38;5;124;43m\"\u001b[39;49m\u001b[38;5;124;43mmemory_map\u001b[39;49m\u001b[38;5;124;43m\"\u001b[39;49m\u001b[43m,\u001b[49m\u001b[43m \u001b[49m\u001b[38;5;28;43;01mFalse\u001b[39;49;00m\u001b[43m)\u001b[49m\u001b[43m,\u001b[49m\n\u001b[1;32m   1667\u001b[0m \u001b[43m    \u001b[49m\u001b[43mis_text\u001b[49m\u001b[38;5;241;43m=\u001b[39;49m\u001b[43mis_text\u001b[49m\u001b[43m,\u001b[49m\n\u001b[1;32m   1668\u001b[0m \u001b[43m    \u001b[49m\u001b[43merrors\u001b[49m\u001b[38;5;241;43m=\u001b[39;49m\u001b[38;5;28;43mself\u001b[39;49m\u001b[38;5;241;43m.\u001b[39;49m\u001b[43moptions\u001b[49m\u001b[38;5;241;43m.\u001b[39;49m\u001b[43mget\u001b[49m\u001b[43m(\u001b[49m\u001b[38;5;124;43m\"\u001b[39;49m\u001b[38;5;124;43mencoding_errors\u001b[39;49m\u001b[38;5;124;43m\"\u001b[39;49m\u001b[43m,\u001b[49m\u001b[43m \u001b[49m\u001b[38;5;124;43m\"\u001b[39;49m\u001b[38;5;124;43mstrict\u001b[39;49m\u001b[38;5;124;43m\"\u001b[39;49m\u001b[43m)\u001b[49m\u001b[43m,\u001b[49m\n\u001b[1;32m   1669\u001b[0m \u001b[43m    \u001b[49m\u001b[43mstorage_options\u001b[49m\u001b[38;5;241;43m=\u001b[39;49m\u001b[38;5;28;43mself\u001b[39;49m\u001b[38;5;241;43m.\u001b[39;49m\u001b[43moptions\u001b[49m\u001b[38;5;241;43m.\u001b[39;49m\u001b[43mget\u001b[49m\u001b[43m(\u001b[49m\u001b[38;5;124;43m\"\u001b[39;49m\u001b[38;5;124;43mstorage_options\u001b[39;49m\u001b[38;5;124;43m\"\u001b[39;49m\u001b[43m,\u001b[49m\u001b[43m \u001b[49m\u001b[38;5;28;43;01mNone\u001b[39;49;00m\u001b[43m)\u001b[49m\u001b[43m,\u001b[49m\n\u001b[1;32m   1670\u001b[0m \u001b[43m\u001b[49m\u001b[43m)\u001b[49m\n\u001b[1;32m   1671\u001b[0m \u001b[38;5;28;01massert\u001b[39;00m \u001b[38;5;28mself\u001b[39m\u001b[38;5;241m.\u001b[39mhandles \u001b[38;5;129;01mis\u001b[39;00m \u001b[38;5;129;01mnot\u001b[39;00m \u001b[38;5;28;01mNone\u001b[39;00m\n\u001b[1;32m   1672\u001b[0m f \u001b[38;5;241m=\u001b[39m \u001b[38;5;28mself\u001b[39m\u001b[38;5;241m.\u001b[39mhandles\u001b[38;5;241m.\u001b[39mhandle\n",
      "File \u001b[0;32m/opt/homebrew/Caskroom/miniforge/base/envs/data/lib/python3.10/site-packages/pandas/io/common.py:859\u001b[0m, in \u001b[0;36mget_handle\u001b[0;34m(path_or_buf, mode, encoding, compression, memory_map, is_text, errors, storage_options)\u001b[0m\n\u001b[1;32m    854\u001b[0m \u001b[38;5;28;01melif\u001b[39;00m \u001b[38;5;28misinstance\u001b[39m(handle, \u001b[38;5;28mstr\u001b[39m):\n\u001b[1;32m    855\u001b[0m     \u001b[38;5;66;03m# Check whether the filename is to be opened in binary mode.\u001b[39;00m\n\u001b[1;32m    856\u001b[0m     \u001b[38;5;66;03m# Binary mode does not support 'encoding' and 'newline'.\u001b[39;00m\n\u001b[1;32m    857\u001b[0m     \u001b[38;5;28;01mif\u001b[39;00m ioargs\u001b[38;5;241m.\u001b[39mencoding \u001b[38;5;129;01mand\u001b[39;00m \u001b[38;5;124m\"\u001b[39m\u001b[38;5;124mb\u001b[39m\u001b[38;5;124m\"\u001b[39m \u001b[38;5;129;01mnot\u001b[39;00m \u001b[38;5;129;01min\u001b[39;00m ioargs\u001b[38;5;241m.\u001b[39mmode:\n\u001b[1;32m    858\u001b[0m         \u001b[38;5;66;03m# Encoding\u001b[39;00m\n\u001b[0;32m--> 859\u001b[0m         handle \u001b[38;5;241m=\u001b[39m \u001b[38;5;28;43mopen\u001b[39;49m\u001b[43m(\u001b[49m\n\u001b[1;32m    860\u001b[0m \u001b[43m            \u001b[49m\u001b[43mhandle\u001b[49m\u001b[43m,\u001b[49m\n\u001b[1;32m    861\u001b[0m \u001b[43m            \u001b[49m\u001b[43mioargs\u001b[49m\u001b[38;5;241;43m.\u001b[39;49m\u001b[43mmode\u001b[49m\u001b[43m,\u001b[49m\n\u001b[1;32m    862\u001b[0m \u001b[43m            \u001b[49m\u001b[43mencoding\u001b[49m\u001b[38;5;241;43m=\u001b[39;49m\u001b[43mioargs\u001b[49m\u001b[38;5;241;43m.\u001b[39;49m\u001b[43mencoding\u001b[49m\u001b[43m,\u001b[49m\n\u001b[1;32m    863\u001b[0m \u001b[43m            \u001b[49m\u001b[43merrors\u001b[49m\u001b[38;5;241;43m=\u001b[39;49m\u001b[43merrors\u001b[49m\u001b[43m,\u001b[49m\n\u001b[1;32m    864\u001b[0m \u001b[43m            \u001b[49m\u001b[43mnewline\u001b[49m\u001b[38;5;241;43m=\u001b[39;49m\u001b[38;5;124;43m\"\u001b[39;49m\u001b[38;5;124;43m\"\u001b[39;49m\u001b[43m,\u001b[49m\n\u001b[1;32m    865\u001b[0m \u001b[43m        \u001b[49m\u001b[43m)\u001b[49m\n\u001b[1;32m    866\u001b[0m     \u001b[38;5;28;01melse\u001b[39;00m:\n\u001b[1;32m    867\u001b[0m         \u001b[38;5;66;03m# Binary mode\u001b[39;00m\n\u001b[1;32m    868\u001b[0m         handle \u001b[38;5;241m=\u001b[39m \u001b[38;5;28mopen\u001b[39m(handle, ioargs\u001b[38;5;241m.\u001b[39mmode)\n",
      "\u001b[0;31mFileNotFoundError\u001b[0m: [Errno 2] No such file or directory: 'data/riksdag_start-end.csv'"
     ]
    }
   ],
   "source": [
    "from pyriksdagen.metadata import load_Corpus_metadata\n",
    "\n",
    "df = load_Corpus_metadata(\"data\")"
   ]
  },
  {
   "cell_type": "markdown",
   "metadata": {
    "id": "zOsD5iu9-_Id"
   },
   "source": [
    "Let's find a specific person based on their name, for example Elis Håstad"
   ]
  },
  {
   "cell_type": "code",
   "execution_count": 12,
   "metadata": {
    "colab": {
     "base_uri": "https://localhost:8080/",
     "height": 81
    },
    "id": "YhmZbWWr--Tj",
    "outputId": "f811f3e7-a546-4bcb-9b43-b7ebc6c3adc2"
   },
   "outputs": [
    {
     "ename": "NameError",
     "evalue": "name 'df' is not defined",
     "output_type": "error",
     "traceback": [
      "\u001b[0;31m---------------------------------------------------------------------------\u001b[0m",
      "\u001b[0;31mNameError\u001b[0m                                 Traceback (most recent call last)",
      "Cell \u001b[0;32mIn[12], line 2\u001b[0m\n\u001b[1;32m      1\u001b[0m \u001b[38;5;66;03m# Let's find mr. Håstad\u001b[39;00m\n\u001b[0;32m----> 2\u001b[0m \u001b[43mdf\u001b[49m[df\u001b[38;5;241m.\u001b[39mname\u001b[38;5;241m.\u001b[39mstr\u001b[38;5;241m.\u001b[39mcontains(\u001b[38;5;124m\"\u001b[39m\u001b[38;5;124mHåstad\u001b[39m\u001b[38;5;124m\"\u001b[39m)]\n",
      "\u001b[0;31mNameError\u001b[0m: name 'df' is not defined"
     ]
    }
   ],
   "source": [
    "# Let's find mr. Håstad\n",
    "df[df.name.str.contains(\"Håstad\")]"
   ]
  },
  {
   "cell_type": "markdown",
   "metadata": {
    "id": "Gww8GttGATZd"
   },
   "source": [
    "His identifier is i-S9dMiL9yRpDaYPfVGjK1Gp. Using that, we can find all his speeches. Let's do that and print out the first one"
   ]
  },
  {
   "cell_type": "code",
   "execution_count": 8,
   "metadata": {
    "colab": {
     "base_uri": "https://localhost:8080/"
    },
    "id": "5fxuJYhC9fpc",
    "outputId": "2b0f090f-d25e-4e80-b1fd-acb61ae9210c"
   },
   "outputs": [
    {
     "name": "stderr",
     "output_type": "stream",
     "text": [
      "100% (130 of 130) |######################| Elapsed Time: 0:00:00 Time:  0:00:00\n"
     ]
    },
    {
     "name": "stdout",
     "output_type": "stream",
     "text": [
      "Herr talman! Då debatten är så långt framskriden, skall jag inte\n",
      "            gå in på hela detta stora ämne. Jag kan i allt väsentligt instämma\n",
      "            i de rent praktiska synpunkter, som herr Fast här har givit till\n",
      "            känna. Jag skall inte heller gå in på frågan om det stora intrång\n",
      "            på den kyrkliga självstyrelsen, som motionen evident syftar till.\n",
      "          \n",
      "\n",
      "            Vad jag skulle vilja begränsa mig till är frågan, huruvida herr\n",
      "            Lundberg och herr Edberg och övriga motionärer i denna kammare,\n",
      "            när de nu kräver att en stor del av beslutanderätten på det kyrkliga\n",
      "            området skall överflyttas till den borgerliga kommunen, företräder\n",
      "            en mera demokratisk åsikt än anhängarna av den nu gällande ordningen.\n",
      "            Det har väl allmänt betraktats som en stor vinning, att vi 1862\n",
      "            gjorde en åtskillnad mellan den borgerliga och den kyrkliga kommunen.\n",
      "            Denna vinning har ju bestått sedan man på bägge fronterna genomfört\n",
      "            en lång rad av demokratiska reformer. Jag tänker på införandet\n",
      "            av den allmänna kommunala rösträtten, införandet av fullmäktigeinstitutionen\n",
      "            etc. Man har sedan ytterligare befäst den självständiga ställning,\n",
      "            som\n",
      "          \n",
      "\n",
      "            kyrkan fått, genom religionsfrihetslagstiftningen. Nu menar herr\n",
      "            Edberg att det inte vore värre att de borgerliga kommunerna fick\n",
      "            besluta över kyrkliga utgifter än att vi här i riksdagen beslutar\n",
      "            i kyrkliga frågor oavsett om ledamöterna tillhör statskyrkan eller\n",
      "            inte. Men det är väl ändå en stor skillnad däremellan. Vad vi\n",
      "            här i riksdagen har att göra är att dra upp gränserna mellan å\n",
      "            ena sidan kyrkans uppgift och kyrkans makt i samhället och å andra\n",
      "            sidan det borgerliga sambhällslivet. Den gränsdragningen kan ju\n",
      "            intet annat organ göra än riksdagen. Men den borgerliga kommunens\n",
      "            bestämmanderätt över kyrkliga förhållanden skulle beröra verkligt\n",
      "            centrala frågor i kyrkans inre liv. Varje liten utgift, som kommer\n",
      "            på debetsedeln, berör ju en intern kyrklig angelägenhet. Den parallell\n",
      "            som herr Edberg här har dragit är därför inte slående.\n",
      "          \n",
      "\n",
      "            Sedan måste man väl också rent principiellt säga — det skulle\n",
      "            förvåna mig om herr Lundberg kunde motsäga mig på den punkten\n",
      "            — att demokrati inte alls är koncentration till ett visst organ.\n",
      "            Demokrati innebär väl för det första tolerans, den tolerans som\n",
      "            finns i religionsfrihetslagstiftningen, och för det andra decentralisation,\n",
      "            d.v.s. att man på det borgerliga liksom på det kyrkliga området\n",
      "            försöker fördela makten så vitt som möjligt och så djupt ner i\n",
      "            folket som möjligt. Jag tror också att det är ett allmänt demokratiskt\n",
      "            värde, att så många människor som möjligt är engagerade i samhällsuppgifterna\n",
      "            och att alltså inte en liten, begränsad kår, några kommunalfullmäktige\n",
      "            eller stadsfullmäktige, bestämmer över alla slags ting. Jag skulle\n",
      "            vilja erinra herr Lundberg om den oerhörda styrka som det var\n",
      "            för vårt land under andra världskriget och alla de prövningar\n",
      "            vi då mötte, att vi hade några hundratusen kommunalmän ute i landet\n",
      "            — kanske bara\n",
      "          \n",
      "\n",
      "            suppleanter i någon obetydlig nämnd eller styrelse — som alla\n",
      "            hade ett uppdrag och åtnjöt ett medborgarförtroende och därför\n",
      "            på ett helt annat sätt än eljest kände sig ansvariga för utvecklingen.\n",
      "            Ju mindre vi gör den kår som på detta sätt är engagerad i samhällsarbetet\n",
      "            — det må nu vara på det borgerliga eller kyrkliga området — desto\n",
      "            större förlust är detta enligt min mening för den demokratiska\n",
      "            staten.\n",
      "          \n",
      "\n",
      "            Sedan, herr talman, bara ett par ord om kyrkofullmäktigevalen.\n",
      "            Herr Lundberg och hans medmotionärer har tagit årets kyrkofullmäktigeval\n",
      "            och det ringa deltagandet i dessa till utgångspunkt för denna\n",
      "            i grund och botten oerhört omvälvande reform, i varje fall principiellt\n",
      "            omvälvande reform. Det kunde tänkas andra vägar att komma till\n",
      "            rätta med problemet, om man anser det principiellt riktigt, att\n",
      "            de, som är intresserade av kyrkliga frågor eller tillhör statskyrkan,\n",
      "            själva skall få besluta över kyrkliga angelägenheter. Det kan\n",
      "            således tänkas att man på något sätt reformerar kyrkofullmäktigevalen.\n",
      "            Ordföranden i konstitutionsutskottet har ju väckt en motion i\n",
      "            denna fråga. Jag är personligen ganska skeptiskt inställd till\n",
      "            om denna utväg är den riktiga. Principiellt måste jag dock säga,\n",
      "            att herr Hallén enligt min mening angripit problemet från den\n",
      "            riktiga sidan i dag, när han tagit upp kyrkofullmäktigevalen.\n",
      "          \n",
      "\n",
      "            Man kan t. ex. lägga kyrkofullmäktigevalen på en annan tid än\n",
      "            den nu brukliga, så att de inte sammanfaller med något annat val.\n",
      "            Framför allt kan man lägga valet på en sådan tid, då man kan påräkna\n",
      "            ett större allmänt intresse än man kan få tre veckor efter det\n",
      "            stora valet, då väljarna och pressen är uttröttade. Man kan kanske\n",
      "            vända sig till partiorganisationerna och till pressen och försöka\n",
      "            få dem mera intresserade för dessa val än fallet var i höstas.\n",
      "            Den som såg, hur litet tidningarna sysslade med kyrkofullmäktige-\n",
      "          \n",
      "\n",
      "            valen i oktober, måste räkna med att deltagandet vid valet skulle\n",
      "            bli så litet som det i realiteten blev. Jag beklagar själv att\n",
      "            detta intresse inte är större. Jag skulle tro att den angelägnaste\n",
      "            uppgiften för kammaren för närvarande är att finna en sådan ordning\n",
      "            för kyrkofullmäktigevalet, att man kan stimulera människorna till\n",
      "            ett ökat deltagande.\n",
      "          \n",
      "\n",
      "            Till sist har man, herr talman, sagt, att det inte är så demokratiskt\n",
      "            om t. ex. partierna kommer överens om en gemensam lista och kanske\n",
      "            med hänsyn därtill endast samlar 5 procent av de röstberättigade.\n",
      "            Men om samma företeelse sker inom den borgeliga kommunen — och\n",
      "            det skedde oerhört ofta i varje fall före storkommunindelningen\n",
      "            — är ju det lika litet demokratiskt. Då är det svårt att se var\n",
      "            vinsten skulle ligga, om det ena valet ej samlar större intresse\n",
      "            än det andra.\n",
      "          \n",
      "\n",
      "            Herr Lundberg! Det är väl ett allmänt problem att ta upp här\n",
      "            i kammaren och i varje fall ett ögonblick stanna inför, om vi\n",
      "            vid valen i allmänhet har det stora intresse från de röstberättigades\n",
      "            sida som man skulle önska. Vi kan t. ex. se på kandidatnomineringarna,\n",
      "            som är så oerhört viktiga för vårt demokratiska liv. Har vi ett\n",
      "            större allmänt deltagande i kandidatnomineringen till riksdagen\n",
      "            än vid kyrkofullmäktigevalen? I regel motsatsen. I många fall\n",
      "            kan man väl dock säga, att kandidatnomineringen till riksdagen\n",
      "            är viktigare än kyrkofullmäktigevalen. När vi har landstingsgruppernas\n",
      "            val till första kammaren är det kanske tre eller fyra personer\n",
      "            som har makt och möjlighet att avgöra förstakammarmandaten för\n",
      "            åtta år. Vid municipalfullmäktigevalen lägger vi märke till att\n",
      "            municip efter municip i regel har en gemensam lista och mycket\n",
      "            lågt valdeltagande. Vi skulle kunna peka på alla de val och omröstningar\n",
      "            som förekommer i de olika ekonomiska föreningarna, fackföreningartna\n",
      "            och liknande organisationer. Hur\n",
      "          \n",
      "\n",
      "            stort är vid många voteringar deltagandet i en tjänstemannaorganisation\n",
      "            eller ett fackförbund? Det är många gånger mycket lägre än vid\n",
      "            kyrkofullmäktigevalen, men inte säger vi därför att dessa val\n",
      "            är odemokratiska. Vi kan endast beklaga att intresset inte är\n",
      "            större.\n",
      "          \n",
      "\n",
      "            För mig står det i varje fall klart, att det förslag herr Lundberg\n",
      "            kommit med i och för sig inte skapar något större intresse för\n",
      "            kyrkan än den nuvarande ordningen. Snarare får man säga att motsatsen\n",
      "            blir förhållandet. Det skulle leda till ett ännu mindre intresse\n",
      "            för kyrkan. Det är inte heller säkert att förslaget skapar en\n",
      "            större sakkunskap vid avgörandet av kyrkans frågor. Under sådana\n",
      "            förhållanden kan jag inte se att denna motion i något avseende\n",
      "            skulle innebära någon förbättring, och jag yrkar därför, herr\n",
      "            talman, bifall till utskottets förslag.\n",
      "          \n",
      "\n",
      "            Herr talman! Herr Lundberg yttrade att koncentrationen till kyrkofullmäktige\n",
      "            skulle vara en fara. Jag ber herr Lundberg precisera vari denna\n",
      "            samhällsfara ligger; det måste väl vara en fara för samhället\n",
      "            som herr Lundberg menar. Det är någonting som för mig är fullkomligt\n",
      "            okänt, att man skulle kunna använda det hårda uttrycket fara,\n",
      "            samhällsfara, i detta sammanhang.\n",
      "          \n",
      "\n",
      "            Det tycktes som om herr Lundberg fortfarande vore anhängare av\n",
      "            en koncentration av makten. Jag vidhåller då för min del såsom\n",
      "            en personlig bekännelse, att jag anser att vi fortfarande bör\n",
      "            sträva efter att ge så många som möjligt uppdrag i detta samhälle,\n",
      "            intresse för samhället och ansvar för samhällsutvecklingen. Ur\n",
      "            den synpunkten var det ju beklagligt att storkommunindelningen,\n",
      "            som ur andra synpunkter var nödvändig, ledde till en minskning\n",
      "            av den krets som känner detta ansvar. Skulle vi nu också gå så\n",
      "            hårt fram mot kyrkofullmäktige som herr Lundberg önskar, är det\n",
      "            ju fara för att denna krets ytterligare minskar och att vi får\n",
      "            en alltmer koncentrerad demokrati.\n",
      "          \n",
      "\n",
      "            Herr talman! Jag tycker att vad som skett med kyrktuppen nere\n",
      "            i Skåne är en för liten händelse för den omvälvande reform som\n",
      "            herr Lundberg planerar. Om herr Lundberg emellertid skulle vilja\n",
      "            ha exempel på liknande kupper, eller vad vi skall kalla det, på\n",
      "            det kommunala området, kan jag stå till tjänst med att nämna bl.\n",
      "            a. ett fall från den tid då jag exercerade i Norrland: den berömda\n",
      "            Junselekuppen, som avsåg val av kommunalfullmäktige.\n",
      "          \n",
      "\n",
      "            Vi skall heller inte alldeles undervärdera det antal som deltar\n",
      "            i kyrkofullmäktigevalen, när det är en verklig tävlan mellan partierna.\n",
      "            Man har nu gång på gång åberopat förhållandena i Stockholm, i\n",
      "            varje fall skedde det i utskottet. Såvitt jag i hastigheten kan\n",
      "            räkna fram var det dock 75 000 människor som deltog i kyrkofullmäktigevalet\n",
      "            i Stockholm. Dessa 75 000 är en ganska stor armé, och de är inte\n",
      "            en armé som alldeles kan negligeras.\n"
     ]
    }
   ],
   "source": [
    "# Elis Håstad (i-S9dMiL9yRpDaYPfVGjK1Gp)\n",
    "hastad_speeches = []\n",
    "for protocol in progressbar.progressbar(protocols):\n",
    "  root = etree.parse(protocol, parser).getroot()\n",
    "  protocol_speech = []\n",
    "  for speech in speeches_with_name(root, name=\"i-S9dMiL9yRpDaYPfVGjK1Gp\"):\n",
    "    protocol_speech.append(speech)\n",
    "  protocol_speech = \"\\n\".join(protocol_speech).strip()\n",
    "  if protocol_speech != \"\":\n",
    "    hastad_speeches.append(protocol_speech)\n",
    "\n",
    "print(hastad_speeches[0])"
   ]
  }
 ],
 "metadata": {
  "colab": {
   "provenance": []
  },
  "kernelspec": {
   "display_name": "Python 3 (ipykernel)",
   "language": "python",
   "name": "python3"
  },
  "language_info": {
   "codemirror_mode": {
    "name": "ipython",
    "version": 3
   },
   "file_extension": ".py",
   "mimetype": "text/x-python",
   "name": "python",
   "nbconvert_exporter": "python",
   "pygments_lexer": "ipython3",
   "version": "3.10.12"
  }
 },
 "nbformat": 4,
 "nbformat_minor": 4
}
